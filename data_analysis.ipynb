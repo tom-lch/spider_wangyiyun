{
 "cells": [
  {
   "cell_type": "code",
   "execution_count": 1,
   "metadata": {},
   "outputs": [],
   "source": [
    "import pandas as pd"
   ]
  },
  {
   "cell_type": "code",
   "execution_count": 2,
   "metadata": {},
   "outputs": [
    {
     "name": "stdout",
     "output_type": "stream",
     "text": [
      "\u001b[34m__pycache__\u001b[m\u001b[m/                music_lists_detail.csv\r\n",
      "config.py                   spider_music_detail.py\r\n",
      "data_analysis.ipynb         spider_music_list.py\r\n",
      "error.csv                   spider_params_encSecKey.py\r\n",
      "get_music_liked_info.py     spider_total_music.py\r\n",
      "get_music_lists.py          total_music_liked_num.csv\r\n",
      "music_lists_0_1500.csv\r\n"
     ]
    }
   ],
   "source": [
    "ls"
   ]
  },
  {
   "cell_type": "code",
   "execution_count": 9,
   "metadata": {},
   "outputs": [],
   "source": [
    "music_lists_detail = pd.read_csv('music_lists_detail.csv', names=['url', 'music_name', 'other'])"
   ]
  },
  {
   "cell_type": "code",
   "execution_count": 10,
   "metadata": {},
   "outputs": [
    {
     "data": {
      "text/plain": [
       "167269"
      ]
     },
     "execution_count": 10,
     "metadata": {},
     "output_type": "execute_result"
    }
   ],
   "source": [
    "len(music_lists_detail)"
   ]
  },
  {
   "cell_type": "code",
   "execution_count": 12,
   "metadata": {},
   "outputs": [],
   "source": [
    "total_music_liked_num = pd.read_csv('total_music_liked_num.csv', names=['songer', 'zj', 'music', 'comment_num', 'zan_list'])"
   ]
  },
  {
   "cell_type": "code",
   "execution_count": 13,
   "metadata": {},
   "outputs": [
    {
     "data": {
      "text/plain": [
       "75019"
      ]
     },
     "execution_count": 13,
     "metadata": {},
     "output_type": "execute_result"
    }
   ],
   "source": [
    "len(total_music_liked_num)"
   ]
  },
  {
   "cell_type": "code",
   "execution_count": 16,
   "metadata": {},
   "outputs": [
    {
     "data": {
      "text/plain": [
       "0         False\n",
       "1         False\n",
       "2         False\n",
       "3         False\n",
       "4         False\n",
       "5         False\n",
       "6         False\n",
       "7         False\n",
       "8         False\n",
       "9         False\n",
       "10        False\n",
       "11        False\n",
       "12        False\n",
       "13        False\n",
       "14        False\n",
       "15        False\n",
       "16        False\n",
       "17        False\n",
       "18        False\n",
       "19        False\n",
       "20        False\n",
       "21        False\n",
       "22        False\n",
       "23        False\n",
       "24        False\n",
       "25        False\n",
       "26        False\n",
       "27        False\n",
       "28        False\n",
       "29        False\n",
       "          ...  \n",
       "167239    False\n",
       "167240    False\n",
       "167241    False\n",
       "167242    False\n",
       "167243    False\n",
       "167244    False\n",
       "167245    False\n",
       "167246    False\n",
       "167247    False\n",
       "167248    False\n",
       "167249    False\n",
       "167250    False\n",
       "167251    False\n",
       "167252    False\n",
       "167253    False\n",
       "167254    False\n",
       "167255    False\n",
       "167256    False\n",
       "167257    False\n",
       "167258    False\n",
       "167259    False\n",
       "167260    False\n",
       "167261    False\n",
       "167262    False\n",
       "167263    False\n",
       "167264    False\n",
       "167265    False\n",
       "167266    False\n",
       "167267    False\n",
       "167268    False\n",
       "Name: music_name, Length: 167269, dtype: bool"
      ]
     },
     "execution_count": 16,
     "metadata": {},
     "output_type": "execute_result"
    }
   ],
   "source": [
    "music_lists_detail['music_name'].isin(['Rainy Dance'])"
   ]
  },
  {
   "cell_type": "code",
   "execution_count": 17,
   "metadata": {},
   "outputs": [],
   "source": [
    "data = music_lists_detail[75019:]"
   ]
  },
  {
   "cell_type": "code",
   "execution_count": 18,
   "metadata": {},
   "outputs": [],
   "source": [
    "data.to_csv('port.csv')"
   ]
  },
  {
   "cell_type": "code",
   "execution_count": null,
   "metadata": {},
   "outputs": [],
   "source": []
  }
 ],
 "metadata": {
  "kernelspec": {
   "display_name": "Python 3",
   "language": "python",
   "name": "python3"
  },
  "language_info": {
   "codemirror_mode": {
    "name": "ipython",
    "version": 3
   },
   "file_extension": ".py",
   "mimetype": "text/x-python",
   "name": "python",
   "nbconvert_exporter": "python",
   "pygments_lexer": "ipython3",
   "version": "3.7.4"
  }
 },
 "nbformat": 4,
 "nbformat_minor": 2
}
